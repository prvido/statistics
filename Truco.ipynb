{
 "cells": [
  {
   "cell_type": "markdown",
   "metadata": {},
   "source": [
    "# Truco - Análise de Probabilidades"
   ]
  },
  {
   "cell_type": "markdown",
   "metadata": {},
   "source": [
    "## Introdução"
   ]
  },
  {
   "cell_type": "markdown",
   "metadata": {},
   "source": [
    "Truco é um jogo da baralho que utiliza 40 cartas, seguindo a seguinte ordem crescente de poder: 4, 5, 6, 7, Q, J, K, A, 2, 3.\n",
    "\n",
    "Geralmente é jogado entre 3 a 6 jogadores, cada qual recebe 3 cartas, e se dividem em equipes com o objetivo de vencer 2 de 3 rounds. Ganha o round a equipe que jogar a carta mais alta.\n",
    "\n",
    "Cada partida equivale a um ponto e ganha a equipe que fizer 12 pontos. O valor de uma partida pode ser aumentado caso uma equipe peça \"Truco\" e a outra aceite.\n",
    "\n",
    "Após os jogadores terem recebidos suas 3 cartas cada, é virada uma carta do monte que sobrou que irá definir a manilha da partida, sendo a próxima na ordem de grandeza. As manilhas são as cartas mais poderosas e o poder dessas cartas é influenciado pelo naipe. A ordem de grandeza crescente é a seguinte: Ouros, Espada, Copas e Paus.\n",
    "\n",
    "Este notebook está dividido em duas partes: Análise Teórica e Análise Prática. A parte teórica envolve os cálculos probabilísticos e a parte prática envolve uma simulação para validar os cálculos teóricos."
   ]
  },
  {
   "cell_type": "markdown",
   "metadata": {},
   "source": [
    "## Análise Teórica"
   ]
  },
  {
   "cell_type": "markdown",
   "metadata": {},
   "source": [
    "### Análise Combinatória"
   ]
  },
  {
   "cell_type": "markdown",
   "metadata": {},
   "source": [
    "A análise combinatória ou combinatória é a parte da Matemática que estuda métodos e técnicas que permitem resolver problemas relacionados com contagem.\n",
    "\n",
    "Em resumo, no princípio fundamental da contagem, multiplica-se o número de opções entre as escolhas que lhe são apresentadas.\n",
    "\n",
    "#### Arranjos\n",
    "\n",
    "Nos arranjos, os agrupamentos dos elementos dependem da ordem e da natureza dos mesmos.\n",
    "\n",
    "Para obter o arranjo simples de n elementos tomados, p a p (p ≤ n), utiliza-se a seguinte expressão:\n",
    "\n",
    "*A = n! / (n - p)!*\n",
    "\n",
    "#### Permutações\n",
    "\n",
    "As permutações são agrupamentos ordenados, onde o número de elementos (n) do agrupamento é igual ao número de elementos disponíveis.\n",
    "\n",
    "Note que a permutação é um caso especial de arranjo, quando o número de elementos é igual ao número de agrupamentos. Desta maneira, o denominador na fórmula do arranjo é igual a 1 na permutação.\n",
    "\n",
    "Assim a permutação é expressa pela fórmula:\n",
    "\n",
    "*P = n!*\n",
    "\n",
    "#### Combinações\n",
    "\n",
    "As combinações são subconjuntos em que a ordem dos elementos não é importante, entretanto, são caracterizadas pela natureza dos mesmos.\n",
    "\n",
    "Assim, para calcular uma combinação simples de n elementos tomados p a p (p ≤ n), utiliza-se a seguinte expressão:\n",
    "\n",
    "*C = n! / (p! (n - p)!)*\n",
    "\n",
    "<br>\n",
    "\n",
    "Fonte: https://www.todamateria.com.br/analise-combinatoria/"
   ]
  },
  {
   "cell_type": "markdown",
   "metadata": {},
   "source": [
    "### Código"
   ]
  },
  {
   "cell_type": "markdown",
   "metadata": {},
   "source": [
    "#### Imports"
   ]
  },
  {
   "cell_type": "code",
   "execution_count": null,
   "metadata": {},
   "outputs": [],
   "source": [
    "from math import comb                                                                                 # Função para calcular o número de combinações\n",
    "import matplotlib.pyplot as plt                                                                       # Biblioteca para plotar os gráficos usados na análise"
   ]
  },
  {
   "cell_type": "markdown",
   "metadata": {},
   "source": [
    "#### Funções Auxiliares"
   ]
  },
  {
   "cell_type": "code",
   "execution_count": 126,
   "metadata": {},
   "outputs": [],
   "source": [
    "def formatting(x):                                                                                    # Função para pegar um número decimal e passar para porcentagem\n",
    "    return round(x * 100, 0)                                                                          # Retorno do número formatado"
   ]
  },
  {
   "cell_type": "markdown",
   "metadata": {},
   "source": [
    "#### Variáveis Auxiliares"
   ]
  },
  {
   "cell_type": "code",
   "execution_count": 115,
   "metadata": {},
   "outputs": [],
   "source": [
    "cards = 40                                                                                            # Um baralho de truco é composto por 40 cartas, sendo 10 de cada naipe\n",
    "players = 4                                                                                           # Nessa análise está sendo considerado um jogo entre 4\n",
    "cards_per_player = 3                                                                                  # Cada jogador recebe 3 cartas\n",
    "playable_cards = cards_per_player * players                                                           # Só as cartas dadas aos jogadores podem ser usadas no jogo\n",
    "turned_cards = 1                                                                                      # Após entregar as cartas, a próxima do monte é virada para determinar a manilha\n",
    "non_playable_cards = cards - turned_cards - playable_cards                                            # O resto do monte não tem mais uso\n",
    "wildcards = 4                                                                                         # Ao todo são 4 manilhas, uma de cada naipe. É o próximo símbolo da carta virada\n",
    "usable_cards = cards - turned_cards                                                                   # Apenas 39 cartas podem formar as combinações porque 1 é virada"
   ]
  },
  {
   "cell_type": "markdown",
   "metadata": {},
   "source": [
    "#### Cálculos"
   ]
  },
  {
   "cell_type": "code",
   "execution_count": 116,
   "metadata": {},
   "outputs": [
    {
     "data": {
      "image/png": "[encoded data removed]",
      "text/plain": [
       "<Figure size 864x432 with 1 Axes>"
      ]
     },
     "metadata": {
      "needs_background": "light"
     },
     "output_type": "display_data"
    }
   ],
   "source": [
    "total_cb = comb(usable_cards, cards_per_player)                                                       # Um jogador pode ter (39 3) combinações de mão\n",
    "\n",
    "no_wildcards_cb = comb(usable_cards - wildcards, cards_per_player)                                    # Mão sem manilha implica que são 35 (39 cartas - 4 manilhas) cartas para 3 espaços\n",
    "no_wildcards_pb = formatting(no_wildcards_cb / total_cb)                                              # Combinações sem manilha dividido por todas combinações resulta na probabilidade\n",
    "\n",
    "at_least_1_wildcard_pb = 1 - no_wildcards_pb                                                          # São probabilidades complementares\n",
    "\n",
    "only_1_wildcard_cb = comb(usable_cards - wildcards, cards_per_player - 1) * comb(wildcards, 1)        # Combinações com 1 manilha vezes o número de manilhas\n",
    "only_1_wildcard_pb = formatting(only_1_wildcard_cb / total_cb)                                        # Combinações com 1 manilha dividido por todas combinações resulta na probabilidade\n",
    "\n",
    "only_2_wildcard_cb = comb(usable_cards - wildcards, cards_per_player - 2) * comb(wildcards, 2)        # Combinações com 2 manilhas vezes o número combinações de 2 manilhas\n",
    "only_2_wildcard_pb = formatting(only_2_wildcard_cb / total_cb)                                        # Combinações com 2 manilhsa dividido por todas combinações resulta na probabilidade\n",
    "\n",
    "only_3_wildcard_cb = comb(usable_cards - wildcards, cards_per_player - 3) * comb(wildcards, 3)        # Combinações com 3 manilhas vezes o número combinações de 3 manilhas\n",
    "only_3_wildcard_pb = formatting(only_3_wildcard_cb / total_cb)                                        # Combinações com 3 manilhsa dividido por todas combinações resulta na probabilidade\n",
    "\n",
    "\n",
    "fig, ax = plt.subplots(1, 1, figsize=(12, 6))                                                         # Definindo área de plotagem\n",
    "\n",
    "x = ['Sem Manilha', '1 Manilha', '2 Manilhas', '3 Manilhas']                                          # Definindo valores do eixo x do gráfico\n",
    "y = [no_wildcards_pb, only_1_wildcard_pb, only_2_wildcard_pb, only_3_wildcard_pb]                     # Definindo valores do eixo y do gráfico - barras\n",
    "y_cum_sum = [sum(y[1:i]) for i in range(2, len(y)+1)]                                                 # Definindo valores do eixo y do gráfico - linha\n",
    "\n",
    "ax.bar(x, y)                                                                                          # Plotando as barras com as probabilidades\n",
    "ax.plot(x[1:], y_cum_sum, marker='o', color='orange', linewidth=2)                                    # Plotando a linha com as probabilidades acumuladas\n",
    "\n",
    "for index in range(len(x)):\n",
    "  ax.text(x[index], y[index] + 1, y[index], size=12, ha='center')                                     # Plotando texto com os valores das barras\n",
    "\n",
    "for index in range(1, len(y)-1):\n",
    "  ax.text(x[index+1], y_cum_sum[index] + 1, y_cum_sum[index], size=12, ha='center')                   # Plotando texto com os valores dos pontos da linha\n",
    "\n",
    "ax.set_title('Probabilidade de 28.38% de sair com manilha em uma mão de Truco', fontsize=15)          # Definindo título do gráfico\n",
    "ax.set_ylabel('Probabilidade (%)')                                                                    # Definindo título do eixo y do gráfico\n",
    "ax.set_ylim(0,77)                                                                                     # Definindo limite do eixo y do gráfico\n",
    "\n",
    "plt.show()                                                                                            # Mostrando o gráfico"
   ]
  },
  {
   "cell_type": "code",
   "execution_count": 117,
   "metadata": {},
   "outputs": [
    {
     "data": {
      "image/png": "[encoded data removed]",
      "text/plain": [
       "<Figure size 864x432 with 1 Axes>"
      ]
     },
     "metadata": {
      "needs_background": "light"
     },
     "output_type": "display_data"
    }
   ],
   "source": [
    "total_cb = comb(usable_cards, playable_cards)                                                         # Um jogador pode ter (39 12) combinações de Jogo\n",
    "\n",
    "no_wildcards_cb = comb(usable_cards - wildcards, playable_cards)                                      # Jogo sem manilha implica que são 35 (39 - 4 manilhas) cartas para 12 espaços\n",
    "no_wildcards_pb = formatting(no_wildcards_cb / total_cb)                                              # Combinações sem manilha dividido por todas combinações resulta na probabilidade\n",
    "\n",
    "at_least_1_wildcard_pb = 1 - no_wildcards_pb                                                          # São probabilidades complementares\n",
    "\n",
    "only_1_wildcard_cb = comb(usable_cards - wildcards, playable_cards - 1) * comb(wildcards, 1)          # Combinações com 1 manilha vezes o número de manilhas\n",
    "only_1_wildcard_pb = formatting(only_1_wildcard_cb / total_cb)                                        # Combinações com 1 manilha dividido por todas combinações resulta na probabilidade\n",
    "\n",
    "only_2_wildcard_cb = comb(usable_cards - wildcards, playable_cards - 2) * comb(wildcards, 2)          # Combinações com 2 manilhas vezes o número combinações de 2 manilhas\n",
    "only_2_wildcard_pb = formatting(only_2_wildcard_cb / total_cb)                                        # Combinações com 2 manilhsa dividido por todas combinações resulta na probabilidade\n",
    "\n",
    "only_3_wildcard_cb = comb(usable_cards - wildcards, playable_cards - 3) * comb(wildcards, 3)          # Combinações com 3 manilhas vezes o número combinações de 3 manilhas\n",
    "only_3_wildcard_pb = formatting(only_3_wildcard_cb / total_cb)                                        # Combinações com 3 manilhsa dividido por todas combinações resulta na probabilidade\n",
    "\n",
    "only_4_wildcard_cb = comb(usable_cards - wildcards, playable_cards - 4) * comb(wildcards, 4)          # Combinações com 4 manilhas vezes o número combinações de 4 manilhas\n",
    "only_4_wildcard_pb = formatting(only_4_wildcard_cb / total_cb)                                        # Combinações com 4 manilhsa dividido por todas combinações resulta na probabilidade\n",
    "\n",
    "fig, ax = plt.subplots(1, 1, figsize=(12, 6))                                                         # Definindo área de plotagem\n",
    "\n",
    "x = ['Sem Manilha', '1 Manilha', '2 Manilhas', '3 Manilhas', '4 Manilhas']                            # Definindo valores do eixo x do gráfico\n",
    "y = [no_wildcards_pb, only_1_wildcard_pb, only_2_wildcard_pb, only_3_wildcard_pb, only_4_wildcard_pb] # Definindo valores do eixo y do gráfico - barras\n",
    "y_cum_sum = [sum(y[1:i]) for i in range(2, len(y)+1)]                                                 # Definindo valores do eixo y do gráfico - linha\n",
    "\n",
    "ax.bar(x, y)                                                                                          # Plotando as barras com as probabilidades\n",
    "ax.plot(x[1:], y_cum_sum, marker='o', color='orange', linewidth=2)                                    # Plotando a linha com as probabilidades acumuladas\n",
    "\n",
    "for index in range(len(x)):\n",
    "  ax.text(x[index], y[index] + 1, y[index], size=12, ha='center')                                     # Plotando texto com os valores das barras\n",
    "\n",
    "for index in range(1, len(y)-1):\n",
    "  ax.text(x[index+1], y_cum_sum[index] + 1, round(y_cum_sum[index], 1), size=12, ha='center')         # Plotando texto com os valores dos pontos da linha\n",
    "\n",
    "ax.set_title('Probabilidade de 78.66% de sair com manilha no jogo de Truco', fontsize=15)             # Definindo título do gráfico\n",
    "ax.set_ylabel('Probabilidade (%)')                                                                    # Definindo título do eixo y do gráfico\n",
    "ax.set_ylim(0,85)                                                                                     # Definindo limite do eixo y do gráfico\n",
    "\n",
    "plt.show()                                                                                            # Mostrando o gráfico"
   ]
  },
  {
   "cell_type": "markdown",
   "metadata": {},
   "source": [
    "## Análise Prática"
   ]
  },
  {
   "cell_type": "markdown",
   "metadata": {},
   "source": [
    "### Code"
   ]
  },
  {
   "cell_type": "markdown",
   "metadata": {},
   "source": [
    "#### Imports"
   ]
  },
  {
   "cell_type": "code",
   "execution_count": 82,
   "metadata": {},
   "outputs": [],
   "source": [
    "import pandas as pd                                                                                   # Biblioteca para trabalhar com os dados da simulação\n",
    "import numpy as np                                                                                    # Biblioteca para trabalhar com os dados da simulação"
   ]
  },
  {
   "cell_type": "markdown",
   "metadata": {},
   "source": [
    "#### Funções Auxiliares"
   ]
  },
  {
   "cell_type": "code",
   "execution_count": 78,
   "metadata": {},
   "outputs": [],
   "source": [
    "def create_deck(symbols, suits):                                                                      # Função para criar um deck de baralho\n",
    "    deck = pd.DataFrame()                                                                             # Uma DataFrame vazia para armazenar as cartas\n",
    "    deck['symbol'] = symbols * len(suits)                                                             # Multiplicando os símbolos pelo número de naipes\n",
    "    deck['suit'] = np.sort(suits * len(symbols))                                                      # Multiplicando os naipes pelo número de símbolos\n",
    "    deck['value'] = [i for i in range(1, len(symbols) + 1)] * len(suits)                              # Convertendo os símbolos para valores e multiplicando pelo número de naipes\n",
    "    deck['card'] = deck['symbol'] + ' of ' + deck['suit']                                             # Criando uma coluna com o nome da carta\n",
    "    return deck[['card', 'symbol', 'suit', 'value']]                                                  # Retornando o deck de baralho\n",
    "\n",
    "def shuffle(deck):                                                                                    # Função para embaralhar o baralho\n",
    "    return deck.sample(frac=1)                                                                        # Retorna o baralho embaralhado\n",
    "\n",
    "def set_cards_owners(deck, n_players, n_cards):                                                       # Função que pega o baralho e define quem será o dono de cada carta\n",
    "    owner = []                                                                                        # Lista vazia que vai armazenar os donos\n",
    "    for i in range(1, n_players + 1):                                                                \n",
    "        owner = owner + [f'Player {i}'] * n_cards                                                     # Atribuindo as primeiras cartas aos jogadores\n",
    "    owner = owner + ['Turned']                                                                        # Definindo a carta virada\n",
    "    owner = owner + ['Deck'] * (len(deck) - len(owner))                                               # Definindo demais cartas como monte\n",
    "    deck['owner'] = owner                                                                             # Adicionando a coluna de dono no baralho\n",
    "\n",
    "def set_card_status(deck, n_players, n_cards):                                                        # Função para definir o status de cada carta\n",
    "    playable = n_players * n_cards                                                                    # Número de cartas jogáveis\n",
    "    status = ['Playable'] * (playable) + ['Turned'] + ['Deck'] * (len(deck) - (playable + 1))         # Criando uma lista com o status de cada carta\n",
    "    deck['status'] = status                                                                           # Adicionando uma coluna com o status de cada carta\n",
    "\n",
    "def set_wildcards(deck):                                                                              # Função para definir as manilhas do baralaho\n",
    "    turned_value = deck[deck['owner'] == 'Turned']['value'].iloc[0]                                   # Pegando o valor da carta virada\n",
    "    if turned_value == 10:                                                                            # Validando se não é o maior valor de carta\n",
    "        wildcard_value = 1                                                                            # Caso seja o maior valor de carta, a manilha vira a menor carta\n",
    "    else:\n",
    "        wildcard_value = turned_value + 1                                                             # Caso não seja o maior valor de carta, a manilha vira o próximo valor\n",
    "    deck['wildcard'] = deck['value'].map(lambda x: 1 if x == wildcard_value else 0)                   # Definindo coluna com uma flag de identificação de manilha"
   ]
  },
  {
   "cell_type": "markdown",
   "metadata": {},
   "source": [
    "#### Simulação"
   ]
  },
  {
   "cell_type": "code",
   "execution_count": 119,
   "metadata": {},
   "outputs": [],
   "source": [
    "symbols = ['4', '5', '6', '7', 'Q', 'J', 'K', 'A', '2', '3']                                          # Definindo os símbolos usados em um jogo\n",
    "suits = ['Diamonds', 'Spades', 'Hearts', 'Clubs']                                                     # Definindo os naipes usados em um jogo\n",
    "n_players = 4                                                                                         # Definindo o número de jogadores\n",
    "n_hand = 3                                                                                            # Definindo o número de cartas por jogador \n",
    "\n",
    "status = {                                                                                            # Dicionário que vai armazenar o resultado de cada simulação\n",
    "    'playable': [],                                                                                   # Lista que vai armazenar a quantidade de manilhas jogáveis\n",
    "    'non_playable': []                                                                                # Lista que vai armazenar a quantidade de manilhas não jogáveis\n",
    "}\n",
    "\n",
    "for i in range(0, n_players):                                                                         \n",
    "    status[f'Player {i + 1}'] = []                                                                    # Listas que vão armazenar a quantidade de manilhas de cada jogador\n",
    "\n",
    "for i in range(0, 500000):                                                                            # Loop responsável por rodar várias simulações                \n",
    "    deck = shuffle(create_deck(symbols=symbols, suits=suits))                                         # Criando um deck de cartas e já retornando embaralhado\n",
    "    set_cards_owners(deck, n_players, n_hand)                                                         # Definindo o dono de cada carta\n",
    "    set_card_status(deck, n_players, n_hand)                                                          # Definindo o status de cada carta\n",
    "    set_wildcards(deck)                                                                               # Definindo as manilhas\n",
    "\n",
    "    status['playable'].append(deck[deck['status'] == 'Playable']['wildcard'].sum())                   # Armazenando o número de manilhas jogáveis\n",
    "    status['non_playable'].append(deck[deck['status'] == 'Deck']['wildcard'].sum())                   # Armazenando o número de manilhas não jogáveis\n",
    "\n",
    "    for i in range(0, n_players):\n",
    "        status[f'Player {i+1}'].append(deck[deck['owner'] == f'Player {i+1}']['wildcard'].sum())      # Armazenando o número de manilhas de cada jogador"
   ]
  },
  {
   "cell_type": "markdown",
   "metadata": {},
   "source": [
    "#### Análise"
   ]
  },
  {
   "cell_type": "code",
   "execution_count": 127,
   "metadata": {},
   "outputs": [
    {
     "name": "stdout",
     "output_type": "stream",
     "text": [
      "Probabilidade de manilha por categoria:\n"
     ]
    },
    {
     "data": {
      "text/html": [
       "<div>\n",
       "<style scoped>\n",
       "    .dataframe tbody tr th:only-of-type {\n",
       "        vertical-align: middle;\n",
       "    }\n",
       "\n",
       "    .dataframe tbody tr th {\n",
       "        vertical-align: top;\n",
       "    }\n",
       "\n",
       "    .dataframe thead th {\n",
       "        text-align: right;\n",
       "    }\n",
       "</style>\n",
       "<table border=\"1\" class=\"dataframe\">\n",
       "  <thead>\n",
       "    <tr style=\"text-align: right;\">\n",
       "      <th></th>\n",
       "      <th>In Game</th>\n",
       "      <th>In Deck</th>\n",
       "      <th>Player 1</th>\n",
       "      <th>Player 2</th>\n",
       "      <th>Player 3</th>\n",
       "      <th>Player 4</th>\n",
       "    </tr>\n",
       "    <tr>\n",
       "      <th>Qtd. Manilhas</th>\n",
       "      <th></th>\n",
       "      <th></th>\n",
       "      <th></th>\n",
       "      <th></th>\n",
       "      <th></th>\n",
       "      <th></th>\n",
       "    </tr>\n",
       "  </thead>\n",
       "  <tbody>\n",
       "    <tr>\n",
       "      <th>0</th>\n",
       "      <td>21.0</td>\n",
       "      <td>1.0</td>\n",
       "      <td>72.0</td>\n",
       "      <td>72.0</td>\n",
       "      <td>72.0</td>\n",
       "      <td>72.0</td>\n",
       "    </tr>\n",
       "    <tr>\n",
       "      <th>1</th>\n",
       "      <td>43.0</td>\n",
       "      <td>7.0</td>\n",
       "      <td>26.0</td>\n",
       "      <td>26.0</td>\n",
       "      <td>26.0</td>\n",
       "      <td>26.0</td>\n",
       "    </tr>\n",
       "    <tr>\n",
       "      <th>2</th>\n",
       "      <td>28.0</td>\n",
       "      <td>28.0</td>\n",
       "      <td>2.0</td>\n",
       "      <td>2.0</td>\n",
       "      <td>2.0</td>\n",
       "      <td>2.0</td>\n",
       "    </tr>\n",
       "    <tr>\n",
       "      <th>3</th>\n",
       "      <td>7.0</td>\n",
       "      <td>43.0</td>\n",
       "      <td>0.0</td>\n",
       "      <td>0.0</td>\n",
       "      <td>0.0</td>\n",
       "      <td>0.0</td>\n",
       "    </tr>\n",
       "    <tr>\n",
       "      <th>4</th>\n",
       "      <td>1.0</td>\n",
       "      <td>21.0</td>\n",
       "      <td>NaN</td>\n",
       "      <td>NaN</td>\n",
       "      <td>NaN</td>\n",
       "      <td>NaN</td>\n",
       "    </tr>\n",
       "  </tbody>\n",
       "</table>\n",
       "</div>"
      ],
      "text/plain": [
       "               In Game  In Deck  Player 1  Player 2  Player 3  Player 4\n",
       "Qtd. Manilhas                                                          \n",
       "0                 21.0      1.0      72.0      72.0      72.0      72.0\n",
       "1                 43.0      7.0      26.0      26.0      26.0      26.0\n",
       "2                 28.0     28.0       2.0       2.0       2.0       2.0\n",
       "3                  7.0     43.0       0.0       0.0       0.0       0.0\n",
       "4                  1.0     21.0       NaN       NaN       NaN       NaN"
      ]
     },
     "execution_count": 127,
     "metadata": {},
     "output_type": "execute_result"
    }
   ],
   "source": [
    "df = pd.DataFrame(status)                                                                             # Criando DataFrame com os resultados das simulações\n",
    "\n",
    "probabilities = pd.DataFrame()                                                                        # Criando DataFrame para armazenar as probabilidades\n",
    "\n",
    "for col in df.columns:                                                                                # Salvando os dados das probabilidades na DataFrame por meio de concatenações\n",
    "    probabilities = pd.concat(\n",
    "        [\n",
    "            probabilities, \n",
    "            df[col].value_counts(normalize=True).map(formatting)                                      # Value counts retorna as probabilidades\n",
    "        ], axis=1)\n",
    "\n",
    "probabilities.columns = ['In Game', 'In Deck', 'Player 1', 'Player 2', 'Player 3', 'Player 4']        # Renomeando as colunas\n",
    "probabilities.index.name = 'Qtd. Manilhas'                                                            # Renomeando o índice\n",
    "\n",
    "print('Probabilidade de manilha por categoria:')                                                      # Apresentando os resultados da simulação\n",
    "probabilities"
   ]
  },
  {
   "cell_type": "code",
   "execution_count": null,
   "metadata": {},
   "outputs": [],
   "source": []
  }
 ],
 "metadata": {
  "kernelspec": {
   "display_name": "Python 3.9.6 64-bit",
   "language": "python",
   "name": "python3"
  },
  "language_info": {
   "codemirror_mode": {
    "name": "ipython",
    "version": 3
   },
   "file_extension": ".py",
   "mimetype": "text/x-python",
   "name": "python",
   "nbconvert_exporter": "python",
   "pygments_lexer": "ipython3",
   "version": "3.9.6"
  },
  "orig_nbformat": 4,
  "vscode": {
   "interpreter": {
    "hash": "25bc6f325abbabcadd3359c6e495b9516a41042cf3800361c9918ef268528012"
   }
  }
 },
 "nbformat": 4,
 "nbformat_minor": 2
}
