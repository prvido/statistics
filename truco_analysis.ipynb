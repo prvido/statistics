{
 "cells": [
  {
   "cell_type": "markdown",
   "metadata": {},
   "source": [
    "# Truco Statistical Analysis"
   ]
  },
  {
   "cell_type": "markdown",
   "metadata": {},
   "source": [
    "## Imports"
   ]
  },
  {
   "cell_type": "code",
   "execution_count": 10,
   "metadata": {},
   "outputs": [],
   "source": [
    "import pandas as pd\n",
    "import numpy as np\n",
    "from functions import *"
   ]
  },
  {
   "cell_type": "markdown",
   "metadata": {},
   "source": [
    "## Theoretical Analysis"
   ]
  },
  {
   "cell_type": "code",
   "execution_count": 6,
   "metadata": {},
   "outputs": [],
   "source": [
    "cards = 40                                                   # A Truco deck is composed of 40 cards, 10 each suit\n",
    "players = 4                                                  # Truco is usually played between 3 to 6 people. This analysis will consider 4 players\n",
    "cards_per_player = 3                                         # Each player gets 3 cards\n",
    "playable_cards = cards_per_player * players                  # Once the cards are given, only the players cards are used. The deck won't be used again\n",
    "turned_cards = 1                                             # After giving the cards to the players, the next card is shown. This card defines the wildcard\n",
    "non_playable_cards = cards - turned_cards - playable_cards   # The rest of the cards aren't used in the game. \n",
    "wildcards = 4                                                # Truco has 4 wildcards, one for each suit. The wildcard is the next symbol after the turned."
   ]
  },
  {
   "cell_type": "markdown",
   "metadata": {},
   "source": [
    "### Individual Hand Probabilities"
   ]
  },
  {
   "cell_type": "code",
   "execution_count": 8,
   "metadata": {},
   "outputs": [
    {
     "name": "stdout",
     "output_type": "stream",
     "text": [
      "Probability of a game without wildcards       : 72.0\n",
      "Probability of a game with only 1 wildcard    : 26.0\n",
      "Probability of a game with only 2 wildcards   : 2.0\n",
      "Probability of a game with only 3 wildcards   : 0.0\n",
      "Probability of a game with at least 1 wildcard: 28.0\n"
     ]
    }
   ],
   "source": [
    "usable_cards = cards - turned_cards # Since 1 card is shown, only 39 will form the combinations\n",
    "\n",
    "# How many playable combinations one game can have?\n",
    "total_cb = combinations(usable_cards, cards_per_player)\n",
    "\n",
    "# How many combinations doesn't have wildcards? What's the probability?\n",
    "no_wildcards_cb = combinations(usable_cards - wildcards, cards_per_player)\n",
    "no_wildcards_pb = no_wildcards_cb / total_cb\n",
    "print(f'Probability of a game without wildcards       : {formatting(no_wildcards_pb)}')\n",
    "\n",
    "# How many combinations have exactly 1 wildcard? What's the probability?\n",
    "only_1_wildcard_cb = combinations(usable_cards - wildcards, cards_per_player - 1) * combinations(wildcards, 1)\n",
    "only_1_wildcard_pb = only_1_wildcard_cb / total_cb\n",
    "print(f'Probability of a game with only 1 wildcard    : {formatting(only_1_wildcard_pb)}')\n",
    "\n",
    "# How many combinations have exactly 2 wildcard? What's the probability?\n",
    "only_2_wildcard_cb = combinations(usable_cards - wildcards, cards_per_player - 2) * combinations(wildcards, 2)\n",
    "only_2_wildcard_pb = only_2_wildcard_cb / total_cb\n",
    "print(f'Probability of a game with only 2 wildcards   : {formatting(only_2_wildcard_pb)}')\n",
    "\n",
    "# How many combinations have exactly 3 wildcard? What's the probability?\n",
    "only_3_wildcard_cb = combinations(usable_cards - wildcards, cards_per_player - 3) * combinations(wildcards, 3)\n",
    "only_3_wildcard_pb = only_3_wildcard_cb / total_cb\n",
    "print(f'Probability of a game with only 3 wildcards   : {formatting(only_3_wildcard_pb)}')\n",
    "\n",
    "# How many combinations have at leats one wildcard? What is the probability?\n",
    "at_least_1_wildcard_cb = only_1_wildcard_cb + only_2_wildcard_cb + only_3_wildcard_cb\n",
    "at_least_1_wildcard_pb = at_least_1_wildcard_cb / total_cb\n",
    "print(f'Probability of a game with at least 1 wildcard: {formatting(at_least_1_wildcard_pb)}')"
   ]
  },
  {
   "cell_type": "markdown",
   "metadata": {},
   "source": [
    "### Game Probabilities"
   ]
  },
  {
   "cell_type": "code",
   "execution_count": 9,
   "metadata": {},
   "outputs": [
    {
     "name": "stdout",
     "output_type": "stream",
     "text": [
      "Probability of a game without wildcards       : 21.0\n",
      "Probability of a game with only 1 wildcard    : 43.0\n",
      "Probability of a game with only 2 wildcards   : 28.0\n",
      "Probability of a game with only 3 wildcards   : 7.0\n",
      "Probability of a game with only 4 wildcards   : 1.0\n",
      "Probability of a game with at least 1 wildcard: 79.0\n"
     ]
    }
   ],
   "source": [
    "usable_cards = cards - turned_cards # Since 1 card is shown, only 39 will form the combinations\n",
    "\n",
    "# How many playable combinations one game can have?\n",
    "total_cb = combinations(usable_cards, playable_cards)\n",
    "\n",
    "# How many combinations doesn't have wildcards? What's the probability?\n",
    "no_wildcards_cb = combinations(usable_cards - wildcards, playable_cards)\n",
    "no_wildcards_pb = no_wildcards_cb / total_cb\n",
    "print(f'Probability of a game without wildcards       : {formatting(no_wildcards_pb)}')\n",
    "\n",
    "# How many combinations have exactly 1 wildcard? What's the probability?\n",
    "only_1_wildcard_cb = combinations(usable_cards - wildcards, playable_cards - 1) * combinations(wildcards, 1)\n",
    "only_1_wildcard_pb = only_1_wildcard_cb / total_cb\n",
    "print(f'Probability of a game with only 1 wildcard    : {formatting(only_1_wildcard_pb)}')\n",
    "\n",
    "# How many combinations have exactly 2 wildcard? What's the probability?\n",
    "only_2_wildcard_cb = combinations(usable_cards - wildcards, playable_cards - 2) * combinations(wildcards, 2)\n",
    "only_2_wildcard_pb = only_2_wildcard_cb / total_cb\n",
    "print(f'Probability of a game with only 2 wildcards   : {formatting(only_2_wildcard_pb)}')\n",
    "\n",
    "# How many combinations have exactly 3 wildcard? What's the probability?\n",
    "only_3_wildcard_cb = combinations(usable_cards - wildcards, playable_cards - 3) * combinations(wildcards, 3)\n",
    "only_3_wildcard_pb = only_3_wildcard_cb / total_cb\n",
    "print(f'Probability of a game with only 3 wildcards   : {formatting(only_3_wildcard_pb)}')\n",
    "\n",
    "# How many combinations have exactly 4 wildcard? What's the probability?\n",
    "only_4_wildcard_cb = combinations(usable_cards - wildcards, playable_cards - 4) * combinations(wildcards, 4)\n",
    "only_4_wildcard_pb = only_4_wildcard_cb / total_cb\n",
    "print(f'Probability of a game with only 4 wildcards   : {formatting(only_4_wildcard_pb)}')\n",
    "\n",
    "# How many combinations have at leats one wildcard? What is the probability?\n",
    "at_least_1_wildcard_cb = only_1_wildcard_cb + only_2_wildcard_cb + only_3_wildcard_cb + only_4_wildcard_cb\n",
    "at_least_1_wildcard_pb = at_least_1_wildcard_cb / total_cb\n",
    "print(f'Probability of a game with at least 1 wildcard: {formatting(at_least_1_wildcard_pb)}')"
   ]
  },
  {
   "cell_type": "markdown",
   "metadata": {},
   "source": [
    "## Pratical Analysis"
   ]
  },
  {
   "cell_type": "markdown",
   "metadata": {},
   "source": [
    "### Simulation"
   ]
  },
  {
   "cell_type": "code",
   "execution_count": 12,
   "metadata": {},
   "outputs": [],
   "source": [
    "symbols = ['4', '5', '6', '7', 'Q', 'J', 'K', 'A', '2', '3']\n",
    "suits = ['Diamonds', 'Spades', 'Hearts', 'Clubs']\n",
    "n_players = 4\n",
    "n_hand = 3\n",
    "\n",
    "status = {\n",
    "    'playable': [],\n",
    "    'non_playable': []\n",
    "}\n",
    "\n",
    "for i in range(0, n_players):\n",
    "    status[f'Player {i + 1}'] = []\n",
    "\n",
    "deck = pd.DataFrame()\n",
    "\n",
    "for i in range(0, 100000):\n",
    "    deck = shuffle(create_deck(symbols=symbols, suits=suits))\n",
    "    set_cards_owners(deck, n_players, n_hand)\n",
    "    set_card_status(deck, n_players, n_hand)\n",
    "    set_wildcards(deck)\n",
    "\n",
    "    status['playable'].append(deck[deck['status'] == 'Playable']['wildcard'].sum())\n",
    "    status['non_playable'].append(deck[deck['status'] == 'Deck']['wildcard'].sum())\n",
    "\n",
    "    for i in range(0, n_players):\n",
    "        status[f'Player {i+1}'].append(deck[deck['owner'] == f'Player {i+1}']['wildcard'].sum())\n",
    "        "
   ]
  },
  {
   "cell_type": "markdown",
   "metadata": {},
   "source": [
    "### Analysis"
   ]
  },
  {
   "cell_type": "code",
   "execution_count": 14,
   "metadata": {},
   "outputs": [
    {
     "name": "stdout",
     "output_type": "stream",
     "text": [
      "Probabilidade de manilha por categoria:\n"
     ]
    },
    {
     "data": {
      "text/html": [
       "<div>\n",
       "<style scoped>\n",
       "    .dataframe tbody tr th:only-of-type {\n",
       "        vertical-align: middle;\n",
       "    }\n",
       "\n",
       "    .dataframe tbody tr th {\n",
       "        vertical-align: top;\n",
       "    }\n",
       "\n",
       "    .dataframe thead th {\n",
       "        text-align: right;\n",
       "    }\n",
       "</style>\n",
       "<table border=\"1\" class=\"dataframe\">\n",
       "  <thead>\n",
       "    <tr style=\"text-align: right;\">\n",
       "      <th></th>\n",
       "      <th>In Game</th>\n",
       "      <th>In Deck</th>\n",
       "      <th>Player 1</th>\n",
       "      <th>Player 2</th>\n",
       "      <th>Player 3</th>\n",
       "      <th>Player 4</th>\n",
       "    </tr>\n",
       "    <tr>\n",
       "      <th>Qtd. Manilhas</th>\n",
       "      <th></th>\n",
       "      <th></th>\n",
       "      <th></th>\n",
       "      <th></th>\n",
       "      <th></th>\n",
       "      <th></th>\n",
       "    </tr>\n",
       "  </thead>\n",
       "  <tbody>\n",
       "    <tr>\n",
       "      <th>0</th>\n",
       "      <td>21.0</td>\n",
       "      <td>1.0</td>\n",
       "      <td>72.0</td>\n",
       "      <td>72.0</td>\n",
       "      <td>71.0</td>\n",
       "      <td>71.0</td>\n",
       "    </tr>\n",
       "    <tr>\n",
       "      <th>1</th>\n",
       "      <td>43.0</td>\n",
       "      <td>7.0</td>\n",
       "      <td>26.0</td>\n",
       "      <td>26.0</td>\n",
       "      <td>26.0</td>\n",
       "      <td>26.0</td>\n",
       "    </tr>\n",
       "    <tr>\n",
       "      <th>2</th>\n",
       "      <td>28.0</td>\n",
       "      <td>28.0</td>\n",
       "      <td>2.0</td>\n",
       "      <td>2.0</td>\n",
       "      <td>2.0</td>\n",
       "      <td>2.0</td>\n",
       "    </tr>\n",
       "    <tr>\n",
       "      <th>3</th>\n",
       "      <td>7.0</td>\n",
       "      <td>43.0</td>\n",
       "      <td>0.0</td>\n",
       "      <td>0.0</td>\n",
       "      <td>0.0</td>\n",
       "      <td>0.0</td>\n",
       "    </tr>\n",
       "    <tr>\n",
       "      <th>4</th>\n",
       "      <td>1.0</td>\n",
       "      <td>21.0</td>\n",
       "      <td>NaN</td>\n",
       "      <td>NaN</td>\n",
       "      <td>NaN</td>\n",
       "      <td>NaN</td>\n",
       "    </tr>\n",
       "  </tbody>\n",
       "</table>\n",
       "</div>"
      ],
      "text/plain": [
       "               In Game  In Deck  Player 1  Player 2  Player 3  Player 4\n",
       "Qtd. Manilhas                                                          \n",
       "0                 21.0      1.0      72.0      72.0      71.0      71.0\n",
       "1                 43.0      7.0      26.0      26.0      26.0      26.0\n",
       "2                 28.0     28.0       2.0       2.0       2.0       2.0\n",
       "3                  7.0     43.0       0.0       0.0       0.0       0.0\n",
       "4                  1.0     21.0       NaN       NaN       NaN       NaN"
      ]
     },
     "execution_count": 14,
     "metadata": {},
     "output_type": "execute_result"
    }
   ],
   "source": [
    "df = pd.DataFrame(status)\n",
    "\n",
    "probabilities = pd.DataFrame()\n",
    "\n",
    "for col in df.columns:\n",
    "    probabilities = pd.concat([probabilities, df[col].value_counts(normalize=True).map(formatting)], axis=1)\n",
    "probabilities.columns = ['In Game', 'In Deck', 'Player 1', 'Player 2', 'Player 3', 'Player 4']\n",
    "print('Probabilidade de manilha por categoria:')\n",
    "probabilities.index.name = 'Qtd. Manilhas'\n",
    "probabilities"
   ]
  },
  {
   "cell_type": "code",
   "execution_count": null,
   "metadata": {},
   "outputs": [],
   "source": []
  }
 ],
 "metadata": {
  "kernelspec": {
   "display_name": "Python 3.9.6 64-bit",
   "language": "python",
   "name": "python3"
  },
  "language_info": {
   "codemirror_mode": {
    "name": "ipython",
    "version": 3
   },
   "file_extension": ".py",
   "mimetype": "text/x-python",
   "name": "python",
   "nbconvert_exporter": "python",
   "pygments_lexer": "ipython3",
   "version": "3.9.6"
  },
  "orig_nbformat": 4,
  "vscode": {
   "interpreter": {
    "hash": "25bc6f325abbabcadd3359c6e495b9516a41042cf3800361c9918ef268528012"
   }
  }
 },
 "nbformat": 4,
 "nbformat_minor": 2
}
